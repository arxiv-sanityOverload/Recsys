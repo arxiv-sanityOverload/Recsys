{
 "cells": [
  {
   "cell_type": "markdown",
   "metadata": {},
   "source": [
    "# Using Intel python and pandas \n",
    "\n",
    "    1. LDA takes a lot of time in traning. Can't use in production environment. \n",
    "    2. Next Notebook will be on Online Distributed Concept based LDA "
   ]
  },
  {
   "cell_type": "code",
   "execution_count": 1,
   "metadata": {},
   "outputs": [
    {
     "name": "stdout",
     "output_type": "stream",
     "text": [
      "CPU times: user 3.06 s, sys: 997 ms, total: 4.05 s\n",
      "Wall time: 6.07 s\n"
     ]
    }
   ],
   "source": [
    "%%time\n",
    "%matplotlib inline\n",
    "ROOT_DATA_DIR = \"../data/pdf_extract/\"\n",
    "OUTPUT_DIR = \"../dataset/\"\n",
    "import warnings\n",
    "warnings.filterwarnings(\"ignore\")\n",
    "import os\n",
    "import pandas as pd\n",
    "import numpy as np\n",
    "import nltk\n",
    "from nltk.corpus import stopwords\n",
    "import gensim\n",
    "from gensim.models import LdaModel\n",
    "from gensim import models, corpora, similarities\n",
    "import re\n",
    "from nltk.stem.porter import PorterStemmer\n",
    "import time\n",
    "from nltk import FreqDist\n",
    "from scipy.stats import entropy\n",
    "import matplotlib.pyplot as plt\n",
    "import seaborn as sns\n",
    "from numba import jit\n",
    "from multiprocessing import Pool\n",
    "\n",
    "from nltk import stem\n",
    "\n",
    "sns.set_style(\"darkgrid\")"
   ]
  },
  {
   "cell_type": "code",
   "execution_count": 2,
   "metadata": {
    "scrolled": true
   },
   "outputs": [
    {
     "name": "stdout",
     "output_type": "stream",
     "text": [
      "CPU times: user 28.5 s, sys: 17.2 s, total: 45.7 s\n",
      "Wall time: 1min 25s\n"
     ]
    }
   ],
   "source": [
    "%%time\n",
    "data = []\n",
    "def load_text(filename):\n",
    "    with open(ROOT_DATA_DIR+filename, 'r', encoding='ascii', errors='replace') as f:\n",
    "        local_data = {}\n",
    "        text = f.read()\n",
    "        local_data[\"text\"] = str(text)\n",
    "        local_data[\"filename\"] = filename\n",
    "        f.close()\n",
    "        data.append(local_data)\n",
    "dirs = os.listdir(ROOT_DATA_DIR)\n",
    "for filename in dirs:\n",
    "    load_text(filename)"
   ]
  },
  {
   "cell_type": "code",
   "execution_count": 3,
   "metadata": {},
   "outputs": [
    {
     "name": "stdout",
     "output_type": "stream",
     "text": [
      "CPU times: user 250 ms, sys: 1.13 s, total: 1.38 s\n",
      "Wall time: 4.14 s\n"
     ]
    }
   ],
   "source": [
    "%%time\n",
    "df = pd.DataFrame(data)\n"
   ]
  },
  {
   "cell_type": "code",
   "execution_count": 198,
   "metadata": {},
   "outputs": [
    {
     "data": {
      "text/html": [
       "<div>\n",
       "<table border=\"1\" class=\"dataframe\">\n",
       "  <thead>\n",
       "    <tr style=\"text-align: right;\">\n",
       "      <th></th>\n",
       "      <th>filename</th>\n",
       "      <th>text</th>\n",
       "    </tr>\n",
       "  </thead>\n",
       "  <tbody>\n",
       "    <tr>\n",
       "      <th>0</th>\n",
       "      <td>math9912086.txt</td>\n",
       "      <td>...</td>\n",
       "    </tr>\n",
       "    <tr>\n",
       "      <th>1</th>\n",
       "      <td>1801.04962v1.pdf.txt</td>\n",
       "      <td>\\n\\n\\n\\n\\n\\n\\n\\n\\n\\n\\n\\n\\n\\n\\n\\n\\n\\n\\n\\n\\n\\n\\n...</td>\n",
       "    </tr>\n",
       "    <tr>\n",
       "      <th>2</th>\n",
       "      <td>nucl-th9508029.txt</td>\n",
       "      <td>Do ...</td>\n",
       "    </tr>\n",
       "    <tr>\n",
       "      <th>3</th>\n",
       "      <td>cond-mat0012192.txt</td>\n",
       "      <td>\u0000\u0000\u0000 \u0000\u0000\u0000 \u0000\u0000\u0000 \u0000\u0000\u0000 \u0000\u0000\u0000 \u0000\u0000\u0000 \u0000\u0000\u0000 \u0000\u0000\u0000 \u0000\u0000\u0000 \u0000\u0000\u0000 \u0000\u0000\u0000 \u0000...</td>\n",
       "    </tr>\n",
       "    <tr>\n",
       "      <th>4</th>\n",
       "      <td>hep-th0010224.txt</td>\n",
       "      <td>Pseudoconf...</td>\n",
       "    </tr>\n",
       "    <tr>\n",
       "      <th>5</th>\n",
       "      <td>1802.01952.txt</td>\n",
       "      <td>Vol...</td>\n",
       "    </tr>\n",
       "    <tr>\n",
       "      <th>6</th>\n",
       "      <td>cond-mat0307527.txt</td>\n",
       "      <td>...</td>\n",
       "    </tr>\n",
       "    <tr>\n",
       "      <th>7</th>\n",
       "      <td>1202.1863.txt</td>\n",
       "      <td>...</td>\n",
       "    </tr>\n",
       "    <tr>\n",
       "      <th>8</th>\n",
       "      <td>hep-ph0301113.txt</td>\n",
       "      <td>EPJ manus...</td>\n",
       "    </tr>\n",
       "    <tr>\n",
       "      <th>9</th>\n",
       "      <td>0704.2155.txt</td>\n",
       "      <td>...</td>\n",
       "    </tr>\n",
       "  </tbody>\n",
       "</table>\n",
       "</div>"
      ],
      "text/plain": [
       "               filename                                               text\n",
       "0       math9912086.txt                                                ...\n",
       "1  1801.04962v1.pdf.txt  \\n\\n\\n\\n\\n\\n\\n\\n\\n\\n\\n\\n\\n\\n\\n\\n\\n\\n\\n\\n\\n\\n\\n...\n",
       "2    nucl-th9508029.txt                                             Do ...\n",
       "3   cond-mat0012192.txt   \u0000\u0000\u0000 \u0000\u0000\u0000 \u0000\u0000\u0000 \u0000\u0000\u0000 \u0000\u0000\u0000 \u0000\u0000\u0000 \u0000\u0000\u0000 \u0000\u0000\u0000 \u0000\u0000\u0000 \u0000\u0000\u0000 \u0000\u0000\u0000 \u0000...\n",
       "4     hep-th0010224.txt                                      Pseudoconf...\n",
       "5        1802.01952.txt                                             Vol...\n",
       "6   cond-mat0307527.txt                                                ...\n",
       "7         1202.1863.txt                                                ...\n",
       "8     hep-ph0301113.txt                                       EPJ manus...\n",
       "9         0704.2155.txt                                                ..."
      ]
     },
     "execution_count": 198,
     "metadata": {},
     "output_type": "execute_result"
    }
   ],
   "source": [
    "df.head(10)"
   ]
  },
  {
   "cell_type": "code",
   "execution_count": 162,
   "metadata": {},
   "outputs": [
    {
     "name": "stdout",
     "output_type": "stream",
     "text": [
      "64937\n",
      "19481\n"
     ]
    }
   ],
   "source": [
    "print(len(df))\n",
    "df_10 = df.sample(frac=0.3)\n",
    "print(len(df_10))"
   ]
  },
  {
   "cell_type": "code",
   "execution_count": 123,
   "metadata": {
    "collapsed": true
   },
   "outputs": [],
   "source": [
    "# for dataframe partition \n",
    "num_partitions = 80 #number of partitions to split dataframe\n",
    "# num_cores = 1 #number of cores on your machine\n",
    "\n",
    "def parallelize_dataframe(df, func):\n",
    "    df_split = np.array_split(df, num_partitions)\n",
    "    pool = Pool()\n",
    "    df = pd.concat(pool.map(func, df_split))\n",
    "    pool.close()\n",
    "    pool.join()\n",
    "    return df\n",
    "\n",
    "def encode_df(data):\n",
    "    data['text'] = data['text'].apply(lambda x: str(x, errors='ignore'))\n",
    "    return data\n",
    "\n",
    "def clean_df(df):\n",
    "    start = time.time()\n",
    "    print('Process working on: ',os.getpid())\n",
    "    df['tokenized'] = df['text'].apply(lambda x: apply_all(x))\n",
    "    print('Process done:',os.getpid(),'record:', filename)\n",
    "    print()\n",
    "    end = time.time()\n",
    "    print(\"time to complete :\", end-start)\n",
    "    return df\n",
    "\n",
    "# For data cleaning \n",
    "def initial_clean(text):\n",
    "    \"\"\"\n",
    "    Function to clean text of websites, email addresess and any punctuation\n",
    "    We also lower case the text\n",
    "    \"\"\"\n",
    "    text = re.sub(\"((\\S+)?(http(s)?)(\\S+))|((\\S+)?(www)(\\S+))|((\\S+)?(\\@)(\\S+)?)\", \" \", text)\n",
    "    text = re.sub(\"[^a-zA-Z ]\", \"\", text)\n",
    "    text = text.lower() # lower case the text\n",
    "    text = nltk.word_tokenize(text)\n",
    "    return text\n",
    "\n",
    "stop_words = stopwords.words('english')\n",
    "\n",
    "def remove_stop_words(text):\n",
    "    \"\"\"\n",
    "    Function that removes all stopwords from text\n",
    "    \"\"\"\n",
    "    return [word for word in text if word not in stop_words]\n",
    "\n",
    "stemmer = stem.PorterStemmer()\n",
    "\n",
    "def stem_words(text):\n",
    "    \"\"\"\n",
    "    Function to stem words, so plural and singular are treated the same\n",
    "    \"\"\"\n",
    "    try:\n",
    "        text = [stemmer.stem(word) for word in text]\n",
    "        text = [word for word in text if len(word) > 1] # make sure we have no 1 letter words\n",
    "    except IndexError: # the word \"oed\" broke this, so needed try except\n",
    "        pass\n",
    "    return text\n",
    "\n",
    "def apply_all(text):\n",
    "    \"\"\"\n",
    "    This function applies all the functions above into one\n",
    "    \"\"\"\n",
    "    return stem_words(remove_stop_words(initial_clean(text)))"
   ]
  },
  {
   "cell_type": "code",
   "execution_count": 124,
   "metadata": {
    "collapsed": true,
    "scrolled": false
   },
   "outputs": [],
   "source": [
    "# %%time\n",
    "# data = parallelize_dataframe(df, clean_df)"
   ]
  },
  {
   "cell_type": "code",
   "execution_count": 125,
   "metadata": {
    "collapsed": true
   },
   "outputs": [],
   "source": [
    "# %%time\n",
    "# df[\"text\"] = df[\"text\"].apply(lambda x: x.replace(\"\\n\", \" \"))\n",
    "# df[\"text\"] = df[\"text\"].apply(lambda x: x.replace(\"\\t\", \" \"))\n",
    "\n",
    "# # df[\"text\"] = df[\"text\"].apply(lambda x: nlp(x))"
   ]
  },
  {
   "cell_type": "code",
   "execution_count": 126,
   "metadata": {
    "scrolled": true
   },
   "outputs": [
    {
     "name": "stdout",
     "output_type": "stream",
     "text": [
      "Process working on:  13001\n",
      "Process working on:  13002\n",
      "Process working on:  13003\n",
      "Process working on:  13004\n",
      "Process done: 13001 record: cond-mat0310042.txt\n",
      "\n",
      "time to complete : 38.55350708961487\n",
      "Process working on:  13001\n",
      "Process done: 13003 record: cond-mat0310042.txt\n",
      "\n",
      "time to complete : 40.66481399536133\n",
      "Process working on:  13003\n",
      "Process done: 13002 record: cond-mat0310042.txt\n",
      "\n",
      "time to complete : 46.28430795669556\n",
      "Process working on:  13002\n",
      "Process done: 13004 record: cond-mat0310042.txt\n",
      "\n",
      "time to complete : 43.52053904533386\n",
      "Process working on:  13004\n",
      "Process done: 13001 record: cond-mat0310042.txt\n",
      "\n",
      "time to complete : 35.62822103500366\n",
      "Process working on:  13001\n",
      "Process done: 13003 record: cond-mat0310042.txt\n",
      "\n",
      "time to complete : 44.9926278591156\n",
      "Process working on:  13003\n",
      "Process done: 13002 record: cond-mat0310042.txt\n",
      "\n",
      "time to complete : 44.560816049575806\n",
      "Process working on:  13002\n",
      "Process done: 13004 record: cond-mat0310042.txt\n",
      "\n",
      "time to complete : 48.088977098464966\n",
      "Process working on:  13004\n",
      "Process done: 13001 record: cond-mat0310042.txt\n",
      "\n",
      "time to complete : 33.25693488121033\n",
      "Process working on:  13001\n",
      "Process done: 13003 record: cond-mat0310042.txt\n",
      "\n",
      "time to complete : 30.396640062332153\n",
      "Process working on:  13003\n",
      "Process done: 13004 record: cond-mat0310042.txt\n",
      "\n",
      "time to complete : 32.271157026290894\n",
      "Process working on:  13004\n",
      "Process done: 13002 record: cond-mat0310042.txt\n",
      "\n",
      "time to complete : 36.68145799636841\n",
      "Process working on:  13002\n",
      "Process done: 13001 record: cond-mat0310042.txt\n",
      "\n",
      "time to complete : 39.644343852996826\n",
      "Process working on:  13001\n",
      "Process done: 13004 record: cond-mat0310042.txt\n",
      "\n",
      "time to complete : 26.533252000808716\n",
      "Process working on:  13004\n",
      "Process done: 13003 record: cond-mat0310042.txt\n",
      "\n",
      "time to complete : 38.40253710746765\n",
      "Process working on:  13003\n",
      "Process done: 13002 record: cond-mat0310042.txt\n",
      "\n",
      "time to complete : 34.5827100276947\n",
      "Process working on:  13002\n",
      "Process done: 13001 record: cond-mat0310042.txt\n",
      "\n",
      "time to complete : 27.660486936569214\n",
      "Process working on:  13001\n",
      "Process done: 13003 record: cond-mat0310042.txt\n",
      "\n",
      "time to complete : 24.73334288597107\n",
      "Process working on:  13003\n",
      "Process done: 13004 record: cond-mat0310042.txt\n",
      "\n",
      "time to complete : 37.77261805534363\n",
      "Process working on:  13004\n",
      "time to complete : 33.573742151260376\n",
      "Process done: 13002 record: cond-mat0310042.txt\n",
      "\n",
      "Process working on:  13002\n",
      "Process done: 13001 record: cond-mat0310042.txt\n",
      "\n",
      "time to complete : 31.291351079940796\n",
      "Process working on:  13001\n",
      "Process done: 13004 record: cond-mat0310042.txt\n",
      "\n",
      "time to complete : 25.610455989837646\n",
      "Process working on:  13004\n",
      "Process done: 13002 record: cond-mat0310042.txt\n",
      "\n",
      "time to complete : 28.704830169677734\n",
      "Process working on:  13002\n",
      "Process done: 13003 record: cond-mat0310042.txt\n",
      "\n",
      "time to complete : 43.78459405899048\n",
      "Process working on:  13003\n",
      "Process done: 13001 record: cond-mat0310042.txt\n",
      "\n",
      "time to complete : 37.133331060409546\n",
      "Process working on:  13001\n",
      "Process done: 13004 record: cond-mat0310042.txt\n",
      "\n",
      "time to complete : 31.936628103256226\n",
      "Process working on:  13004\n",
      "Process done: 13002 record: cond-mat0310042.txt\n",
      "\n",
      "time to complete : 29.078117847442627\n",
      "Process working on:  13002\n",
      "Process done: 13003 record: cond-mat0310042.txt\n",
      "\n",
      "time to complete : 30.42984890937805\n",
      "Process working on:  13003\n",
      "Process done: 13004 record: cond-mat0310042.txt\n",
      "\n",
      "time to complete : 24.75153398513794\n",
      "Process working on:  13004\n",
      "Process done: 13001 record: cond-mat0310042.txt\n",
      "\n",
      "time to complete : 39.49217200279236\n",
      "Process working on:  13001\n",
      "Process done: 13003 record: cond-mat0310042.txt\n",
      "\n",
      "time to complete : 31.575302124023438\n",
      "Process working on:  13003\n",
      "Process done: 13002 record: cond-mat0310042.txt\n",
      "\n",
      "time to complete : 34.62091112136841\n",
      "Process working on:  13002\n",
      "Process done: 13004 record: cond-mat0310042.txt\n",
      "\n",
      "time to complete : 26.190770864486694\n",
      "Process working on:  13004\n",
      "Process done: 13001 record: cond-mat0310042.txt\n",
      "\n",
      "time to complete : 33.6296591758728\n",
      "Process working on:  13001\n",
      "Process done: 13003 record: cond-mat0310042.txt\n",
      "\n",
      "time to complete : 29.670021057128906\n",
      "Process working on:  13003\n",
      "Process done: 13002 record: cond-mat0310042.txt\n",
      "\n",
      "time to complete : 40.38709497451782\n",
      "Process working on:  13002\n",
      "Process done: 13004 record: cond-mat0310042.txt\n",
      "\n",
      "time to complete : 31.409212112426758\n",
      "Process working on:  13004\n",
      "Process done: 13003 record: cond-mat0310042.txt\n",
      "\n",
      "time to complete : 33.92543292045593\n",
      "Process working on:  13003\n",
      "Process done: 13001 record: cond-mat0310042.txt\n",
      "\n",
      "time to complete : 42.150858879089355\n",
      "Process working on:  13001\n",
      "Process done: 13002 record: cond-mat0310042.txt\n",
      "\n",
      "time to complete : 37.350404024124146\n",
      "Process done: 13004 record: cond-mat0310042.txt\n",
      "Process working on:  13004\n",
      "\n",
      "time to complete : 32.96804594993591\n",
      "Process working on:  13002\n",
      "Process done: 13003 record: cond-mat0310042.txt\n",
      "\n",
      "time to complete : 29.87650489807129\n",
      "Process working on:  13003\n",
      "Process done: 13001 record: cond-mat0310042.txt\n",
      "\n",
      "time to complete : 28.95828890800476\n",
      "Process working on:  13001\n",
      "Process done: 13002 record: cond-mat0310042.txt\n",
      "\n",
      "time to complete : 27.240689992904663\n",
      "Process working on:  13002\n",
      "Process done: 13004 record: cond-mat0310042.txt\n",
      "\n",
      "time to complete : 31.142308950424194\n",
      "Process working on:  13004\n",
      "Process done: 13003 record: cond-mat0310042.txt\n",
      "\n",
      "time to complete : 31.034701108932495\n",
      "Process working on:  13003\n",
      "Process done: 13001 record: cond-mat0310042.txt\n",
      "\n",
      "time to complete : 25.470877170562744\n",
      "Process working on:  13001\n",
      "Process done: 13002 record: cond-mat0310042.txt\n",
      "\n",
      "time to complete : 25.610785961151123\n",
      "Process working on:  13002\n",
      "Process done: 13004 record: cond-mat0310042.txt\n",
      "\n",
      "time to complete : 28.513642072677612\n",
      "Process working on:  13004\n",
      "Process done: 13001 record: cond-mat0310042.txt\n",
      "\n",
      "time to complete : 23.578200101852417\n",
      "Process working on:  13001\n",
      "Process done: 13002 record: cond-mat0310042.txt\n",
      "\n",
      "time to complete : 26.957226991653442\n",
      "Process working on:  13002\n",
      "Process done: 13003 record: cond-mat0310042.txt\n",
      "\n",
      "time to complete : 33.63188195228577\n",
      "Process working on:  13003\n",
      "Process done: 13004 record: cond-mat0310042.txt\n",
      "\n",
      "time to complete : 29.24680495262146\n",
      "Process working on:  13004\n",
      "Process done: 13001 record: cond-mat0310042.txt\n",
      "\n",
      "time to complete : 30.18950891494751\n",
      "Process working on:  13001\n",
      "Process done: 13002 record: cond-mat0310042.txt\n",
      "\n",
      "time to complete : 21.9962739944458\n",
      "Process working on:  13002\n",
      "Process done: 13003 record: cond-mat0310042.txt\n",
      "\n",
      "time to complete : 32.96987795829773\n",
      "Process working on:  13003\n",
      "Process done: 13004 record: cond-mat0310042.txt\n",
      "\n",
      "time to complete : 28.118551015853882\n",
      "Process working on:  13004\n",
      "Process done: 13002 record: cond-mat0310042.txt\n",
      "\n",
      "time to complete : 30.258056163787842\n",
      "Process done: 13001 record: cond-mat0310042.txt\n",
      "\n",
      "time to complete : 32.55544114112854\n",
      "Process working on:  13002\n",
      "Process working on:  13001\n",
      "Process done: 13003 record: cond-mat0310042.txt\n",
      "\n",
      "time to complete : 29.922257900238037\n",
      "Process working on:  13003\n",
      "Process done: 13004 record: cond-mat0310042.txt\n",
      "\n",
      "time to complete : 35.099194049835205\n",
      "Process working on:  13004\n",
      "Process done: 13002 record: cond-mat0310042.txt\n",
      "\n",
      "time to complete : 27.314616918563843\n",
      "Process working on:  13002\n",
      "Process done: 13001 record: cond-mat0310042.txt\n",
      "\n",
      "time to complete : 33.72265601158142\n",
      "Process working on:  13001\n",
      "Process done: 13003 record: cond-mat0310042.txt\n",
      "\n",
      "time to complete : 29.913697957992554\n",
      "Process working on:  13003\n",
      "Process done: 13004 record: cond-mat0310042.txt\n",
      "\n",
      "time to complete : 26.30571413040161\n",
      "Process working on:  13004\n",
      "Process done: 13002 record: cond-mat0310042.txt\n",
      "\n",
      "time to complete : 28.61275005340576\n",
      "Process working on:  13002\n",
      "Process done: 13001 record: cond-mat0310042.txt\n",
      "\n",
      "time to complete : 29.259052991867065\n",
      "Process working on:  13001\n",
      "Process done: 13003 record: cond-mat0310042.txt\n",
      "\n",
      "time to complete : 39.944500207901\n",
      "Process working on:  13003\n",
      "Process done: 13002 record: cond-mat0310042.txt\n",
      "\n",
      "time to complete : 29.124075889587402\n",
      "Process working on:  13002\n",
      "Process done: 13004 record: cond-mat0310042.txt\n",
      "\n",
      "time to complete : 43.16310787200928\n",
      "Process working on:  13004\n",
      "Process done: 13001 record: cond-mat0310042.txt\n",
      "\n",
      "time to complete : 40.01034688949585\n",
      "Process working on:  13001\n",
      "Process done: 13002 record: cond-mat0310042.txt\n"
     ]
    },
    {
     "name": "stdout",
     "output_type": "stream",
     "text": [
      "\n",
      "time to complete : 29.333445072174072\n",
      "Process working on:  13002\n",
      "Process done: 13003 record: cond-mat0310042.txt\n",
      "\n",
      "time to complete : 31.510931968688965\n",
      "Process working on:  13003\n",
      "Process done: 13004 record: cond-mat0310042.txt\n",
      "\n",
      "time to complete : 27.45409393310547\n",
      "Process working on:  13004\n",
      "Process done: 13001 record: cond-mat0310042.txt\n",
      "\n",
      "time to complete : 23.993489027023315\n",
      "Process working on:  13001\n",
      "Process done: 13003 record: cond-mat0310042.txt\n",
      "\n",
      "time to complete : 25.117523908615112\n",
      "Process working on:  13003\n",
      "Process done: 13004 record: cond-mat0310042.txt\n",
      "\n",
      "time to complete : 26.929558992385864\n",
      "Process done: 13002 record: cond-mat0310042.txt\n",
      "\n",
      "time to complete : 32.31842589378357\n",
      "Process done: 13001 record: cond-mat0310042.txt\n",
      "\n",
      "time to complete : 24.645487070083618\n",
      "Process done: 13003 record: cond-mat0310042.txt\n",
      "\n",
      "time to complete : 18.994663953781128\n"
     ]
    }
   ],
   "source": [
    "data = parallelize_dataframe(df_10, clean_df)"
   ]
  },
  {
   "cell_type": "code",
   "execution_count": 127,
   "metadata": {},
   "outputs": [
    {
     "data": {
      "text/plain": [
       "961939"
      ]
     },
     "execution_count": 127,
     "metadata": {},
     "output_type": "execute_result"
    }
   ],
   "source": [
    "# first get a list of all words\n",
    "all_words = [word for item in list(data['tokenized']) for word in item]\n",
    "# use nltk fdist to get a frequency distribution of all words\n",
    "fdist = FreqDist(all_words)\n",
    "len(fdist) # number of unique words"
   ]
  },
  {
   "cell_type": "code",
   "execution_count": 150,
   "metadata": {},
   "outputs": [
    {
     "data": {
      "text/plain": [
       "[('spherelet', 2),\n",
       " ('antipodeinvari', 2),\n",
       " ('truncationmethod', 2),\n",
       " ('obviouslyx', 2),\n",
       " ('particlesclos', 2),\n",
       " ('celmn', 2),\n",
       " ('descriptioncan', 2),\n",
       " ('wenand', 2),\n",
       " ('yyk', 2),\n",
       " ('baselineof', 2)]"
      ]
     },
     "execution_count": 150,
     "metadata": {},
     "output_type": "execute_result"
    }
   ],
   "source": [
    "k = 300000\n",
    "top_k_words = fdist.most_common(k)\n",
    "top_k_words[-10:]"
   ]
  },
  {
   "cell_type": "code",
   "execution_count": 151,
   "metadata": {
    "collapsed": true
   },
   "outputs": [],
   "source": [
    "top_k_words,_ = zip(*fdist.most_common(k))\n",
    "top_k_words = set(top_k_words)\n",
    "def keep_top_k_words(text):\n",
    "    return [word for word in text if word in top_k_words]"
   ]
  },
  {
   "cell_type": "code",
   "execution_count": 152,
   "metadata": {
    "collapsed": true
   },
   "outputs": [],
   "source": [
    "data['tokenized'] = data['tokenized'].apply(keep_top_k_words)"
   ]
  },
  {
   "cell_type": "code",
   "execution_count": 160,
   "metadata": {},
   "outputs": [
    {
     "data": {
      "text/plain": [
       "6492"
      ]
     },
     "execution_count": 160,
     "metadata": {},
     "output_type": "execute_result"
    }
   ],
   "source": [
    "len(data['tokenized'])"
   ]
  },
  {
   "cell_type": "code",
   "execution_count": 155,
   "metadata": {},
   "outputs": [
    {
     "name": "stdout",
     "output_type": "stream",
     "text": [
      "length of list: 6492 \n",
      "average document length 3061.2866605052373 \n",
      "minimum document length 49 \n",
      "maximum document length 38296\n"
     ]
    }
   ],
   "source": [
    "# document length\n",
    "data['doc_len'] = data['tokenized'].apply(lambda x: len(x))\n",
    "doc_lengths = list(data['doc_len'])\n",
    "data.drop(labels='doc_len', axis=1, inplace=True)\n",
    "\n",
    "print(\"length of list:\",len(doc_lengths),\n",
    "      \"\\naverage document length\", np.average(doc_lengths),\n",
    "      \"\\nminimum document length\", min(doc_lengths),\n",
    "      \"\\nmaximum document length\", max(doc_lengths))"
   ]
  },
  {
   "cell_type": "code",
   "execution_count": null,
   "metadata": {
    "collapsed": true
   },
   "outputs": [],
   "source": []
  },
  {
   "cell_type": "code",
   "execution_count": 158,
   "metadata": {},
   "outputs": [
    {
     "data": {
      "image/png": "[encoded data removed]",
      "text/plain": [
       "<matplotlib.figure.Figure at 0x3d14925c0>"
      ]
     },
     "metadata": {},
     "output_type": "display_data"
    }
   ],
   "source": [
    "# plot a histogram of document length\n",
    "num_bins = 10000\n",
    "fig, ax = plt.subplots(figsize=(12,6));\n",
    "# the histogram of the data\n",
    "n, bins, patches = ax.hist(doc_lengths, num_bins, normed=1)\n",
    "ax.set_xlabel('Document Length (tokens)', fontsize=15)\n",
    "ax.set_ylabel('Normed Frequency', fontsize=15)\n",
    "ax.grid()\n",
    "ax.set_xticks(np.logspace(start=np.log10(50),stop=np.log10(25616),num=8, base=10.0))\n",
    "plt.xlim(0,25616)\n",
    "ax.plot([np.average(doc_lengths) for i in np.linspace(0.0,0.0035,100)], np.linspace(0.0,0.0035,100), '-',\n",
    "        label='average doc length')\n",
    "ax.legend()\n",
    "ax.grid()\n",
    "fig.tight_layout()\n",
    "plt.show()"
   ]
  },
  {
   "cell_type": "code",
   "execution_count": 163,
   "metadata": {},
   "outputs": [
    {
     "name": "stdout",
     "output_type": "stream",
     "text": [
      "After cleaning and excluding short aticles, the dataframe now has: 6492 articles\n"
     ]
    }
   ],
   "source": [
    "# only keep articles with more than 30 tokens, otherwise too short\n",
    "data = data[data['tokenized'].map(len) >= 40]\n",
    "# make sure all tokenized items are lists\n",
    "data = data[data['tokenized'].map(type) == list]\n",
    "data.reset_index(drop=True,inplace=True)\n",
    "print(\"After cleaning and excluding short aticles, the dataframe now has:\", len(data), \"articles\")"
   ]
  },
  {
   "cell_type": "code",
   "execution_count": 164,
   "metadata": {},
   "outputs": [
    {
     "data": {
      "text/html": [
       "<div>\n",
       "<table border=\"1\" class=\"dataframe\">\n",
       "  <thead>\n",
       "    <tr style=\"text-align: right;\">\n",
       "      <th></th>\n",
       "      <th>filename</th>\n",
       "      <th>text</th>\n",
       "      <th>tokenized</th>\n",
       "    </tr>\n",
       "  </thead>\n",
       "  <tbody>\n",
       "    <tr>\n",
       "      <th>0</th>\n",
       "      <td>1404.1706.txt</td>\n",
       "      <td>...</td>\n",
       "      <td>[nuclear, physic, nuclear, physic, dijet, asym...</td>\n",
       "    </tr>\n",
       "    <tr>\n",
       "      <th>1</th>\n",
       "      <td>hep-ph0508317.txt</td>\n",
       "      <td>...</td>\n",
       "      <td>[ect, studi, gluon, propag, largenf, limit, ni...</td>\n",
       "    </tr>\n",
       "    <tr>\n",
       "      <th>2</th>\n",
       "      <td>solv-int9811004.txt</td>\n",
       "      <td>\u0000\u0000\u0000 \u0000\u0000\u0000 \u0000\u0000\u0000 \u0000\u0000\u0000 \u0000\u0000\u0000 \u0000\u0000\u0000 \u0000\u0000\u0000 \u0000\u0000\u0000 \u0000\u0000\u0000 \u0000\u0000\u0000 \u0000\u0000\u0000 \u0000...</td>\n",
       "      <td>[transform, qdeform, kortewegd, vri, hierarchi...</td>\n",
       "    </tr>\n",
       "    <tr>\n",
       "      <th>3</th>\n",
       "      <td>cond-mat0012178.txt</td>\n",
       "      <td>\u0000\u0000\u0000 \u0000\u0000\u0000 \u0000\u0000\u0000 \u0000\u0000\u0000 \u0000\u0000\u0000 \u0000\u0000\u0000 \u0000\u0000\u0000 \u0000\u0000\u0000 \u0000\u0000\u0000 \u0000\u0000\u0000 \u0000\u0000\u0000 \u0000...</td>\n",
       "      <td>[pseudospectr, approach, invers, problem, inte...</td>\n",
       "    </tr>\n",
       "    <tr>\n",
       "      <th>4</th>\n",
       "      <td>hep-ph9609390.txt</td>\n",
       "      <td>H...</td>\n",
       "      <td>[heavi, baryon, relativist, quark, model, nonl...</td>\n",
       "    </tr>\n",
       "  </tbody>\n",
       "</table>\n",
       "</div>"
      ],
      "text/plain": [
       "              filename                                               text  \\\n",
       "0        1404.1706.txt                                                ...   \n",
       "1    hep-ph0508317.txt                                                ...   \n",
       "2  solv-int9811004.txt   \u0000\u0000\u0000 \u0000\u0000\u0000 \u0000\u0000\u0000 \u0000\u0000\u0000 \u0000\u0000\u0000 \u0000\u0000\u0000 \u0000\u0000\u0000 \u0000\u0000\u0000 \u0000\u0000\u0000 \u0000\u0000\u0000 \u0000\u0000\u0000 \u0000...   \n",
       "3  cond-mat0012178.txt   \u0000\u0000\u0000 \u0000\u0000\u0000 \u0000\u0000\u0000 \u0000\u0000\u0000 \u0000\u0000\u0000 \u0000\u0000\u0000 \u0000\u0000\u0000 \u0000\u0000\u0000 \u0000\u0000\u0000 \u0000\u0000\u0000 \u0000\u0000\u0000 \u0000...   \n",
       "4    hep-ph9609390.txt                                               H...   \n",
       "\n",
       "                                           tokenized  \n",
       "0  [nuclear, physic, nuclear, physic, dijet, asym...  \n",
       "1  [ect, studi, gluon, propag, largenf, limit, ni...  \n",
       "2  [transform, qdeform, kortewegd, vri, hierarchi...  \n",
       "3  [pseudospectr, approach, invers, problem, inte...  \n",
       "4  [heavi, baryon, relativist, quark, model, nonl...  "
      ]
     },
     "execution_count": 164,
     "metadata": {},
     "output_type": "execute_result"
    }
   ],
   "source": [
    "data.head()"
   ]
  },
  {
   "cell_type": "code",
   "execution_count": 165,
   "metadata": {
    "collapsed": true
   },
   "outputs": [],
   "source": [
    "# create a mask of binary values\n",
    "msk = np.random.rand(len(data)) > 0.09"
   ]
  },
  {
   "cell_type": "code",
   "execution_count": 166,
   "metadata": {
    "collapsed": true
   },
   "outputs": [],
   "source": [
    "msk = np.random.rand(len(data)) > 0.09\n",
    "train_data = data[msk]\n",
    "train_data.reset_index(drop=True,inplace=True)\n",
    "\n",
    "test_data = data[~msk]\n",
    "test_data.reset_index(drop=True,inplace=True)"
   ]
  },
  {
   "cell_type": "code",
   "execution_count": 167,
   "metadata": {},
   "outputs": [
    {
     "name": "stdout",
     "output_type": "stream",
     "text": [
      "6492 5881 611\n"
     ]
    }
   ],
   "source": [
    "print(len(data),len(train_data),len(test_data))"
   ]
  },
  {
   "cell_type": "code",
   "execution_count": 179,
   "metadata": {
    "collapsed": true
   },
   "outputs": [],
   "source": [
    "def train_lda(data):\n",
    "    \"\"\"\n",
    "    This function trains the lda model\n",
    "    We setup parameters like number of topics, the chunksize to use in Hoffman method\n",
    "    We also do 2 passes of the data since this is a small dataset, so we want the distributions to stabilize\n",
    "    \"\"\"\n",
    "    num_topics = 1000\n",
    "    chunksize = 3000\n",
    "    dictionary = corpora.Dictionary(data['tokenized'])\n",
    "    corpus = [dictionary.doc2bow(doc) for doc in data['tokenized']]\n",
    "    t1 = time.time()\n",
    "    # low alpha means each document is only represented by a small number of topics, and vice versa\n",
    "    # low eta means each topic is only represented by a small number of words, and vice versa\n",
    "    lda = LdaModel(corpus=corpus, num_topics=num_topics, id2word=dictionary,\n",
    "                   alpha=1e-2, eta=0.5e-2, chunksize=chunksize, minimum_probability=0.0, passes=2)\n",
    "    t2 = time.time()\n",
    "    print(\"Time to train LDA model on \", len(df), \"articles: \", (t2-t1)/60, \"min\")\n",
    "    return dictionary,corpus,lda"
   ]
  },
  {
   "cell_type": "code",
   "execution_count": 180,
   "metadata": {},
   "outputs": [
    {
     "name": "stdout",
     "output_type": "stream",
     "text": [
      "Time to train LDA model on  64937 articles:  23.00232243537903 min\n"
     ]
    }
   ],
   "source": [
    "dictionary,corpus,lda = train_lda(train_data)\n"
   ]
  },
  {
   "cell_type": "code",
   "execution_count": 181,
   "metadata": {},
   "outputs": [
    {
     "data": {
      "text/plain": [
       "[('algebra', 0.013201558),\n",
       " ('let', 0.012197618),\n",
       " ('volcan', 0.012136823),\n",
       " ('represent', 0.0076001617),\n",
       " ('polynomi', 0.0074237697),\n",
       " ('tutt', 0.006756909),\n",
       " ('invari', 0.00657914),\n",
       " ('ncompon', 0.0062820055),\n",
       " ('myear', 0.005383278),\n",
       " ('milnor', 0.005304985),\n",
       " ('unitriangular', 0.005261467),\n",
       " ('group', 0.004528883),\n",
       " ('follow', 0.0044094175),\n",
       " ('multiplicityfre', 0.0042706057),\n",
       " ('xg', 0.004240671)]"
      ]
     },
     "execution_count": 181,
     "metadata": {},
     "output_type": "execute_result"
    }
   ],
   "source": [
    "lda.show_topic(topicid=8, topn=15)"
   ]
  },
  {
   "cell_type": "code",
   "execution_count": 171,
   "metadata": {
    "scrolled": true
   },
   "outputs": [
    {
     "name": "stdout",
     "output_type": "stream",
     "text": [
      "30\n"
     ]
    }
   ],
   "source": [
    "random_article_index = np.random.randint(len(train_data))\n",
    "bow = dictionary.doc2bow(train_data.iloc[random_article_index, 2])\n",
    "print(random_article_index)"
   ]
  },
  {
   "cell_type": "code",
   "execution_count": 172,
   "metadata": {
    "collapsed": true
   },
   "outputs": [],
   "source": [
    "doc_distribution = np.array([tup[1] for tup in lda.get_document_topics(bow=bow)])\n"
   ]
  },
  {
   "cell_type": "code",
   "execution_count": 173,
   "metadata": {},
   "outputs": [
    {
     "data": {
      "image/png": "[encoded data removed]",
      "text/plain": [
       "<matplotlib.figure.Figure at 0x3cd4caa90>"
      ]
     },
     "metadata": {},
     "output_type": "display_data"
    }
   ],
   "source": [
    "fig, ax = plt.subplots(figsize=(12,6));\n",
    "# the histogram of the data\n",
    "patches = ax.bar(np.arange(len(doc_distribution)), doc_distribution)\n",
    "ax.set_xlabel('Topic ID', fontsize=15)\n",
    "ax.set_ylabel('Topic Contribution', fontsize=15)\n",
    "ax.set_title(\"Topic Distribution for Article \" + str(random_article_index), fontsize=20)\n",
    "ax.set_xticks(np.linspace(10,100,10))\n",
    "fig.tight_layout()\n",
    "plt.show()"
   ]
  },
  {
   "cell_type": "code",
   "execution_count": 174,
   "metadata": {},
   "outputs": [
    {
     "name": "stdout",
     "output_type": "stream",
     "text": [
      "93 [('gaug', 0.020414561), ('phi', 0.016573036), ('theori', 0.015732203), ('term', 0.014779134), ('field', 0.0144401565), ('one', 0.00935116), ('invari', 0.008152069), ('order', 0.007445638), ('action', 0.0071518486), ('eq', 0.0064769406)] \n",
      "\n",
      "77 [('equat', 0.03572111), ('eq', 0.02675858), ('function', 0.026062962), ('solut', 0.02009988), ('integr', 0.013906293), ('term', 0.01380522), ('case', 0.01023691), ('obtain', 0.010020665), ('one', 0.009669782), ('use', 0.009616446)] \n",
      "\n",
      "20 [('energi', 0.025638456), ('potenti', 0.015360644), ('phi', 0.014734086), ('phase', 0.013300311), ('scale', 0.0113658495), ('effect', 0.011267002), ('temperatur', 0.0109878555), ('interact', 0.010195339), ('rev', 0.009777705), ('correl', 0.009702978)] \n",
      "\n",
      "60 [('phi', 0.013678344), ('fig', 0.012393037), ('rev', 0.011884848), ('mode', 0.011399072), ('current', 0.010349605), ('electron', 0.009245483), ('effect', 0.008854782), ('coupl', 0.0079717), ('field', 0.007531831), ('lett', 0.007221799)] \n",
      "\n",
      "56 [('state', 0.057429004), ('quantum', 0.042825617), ('system', 0.018981205), ('classic', 0.014265153), ('one', 0.01414701), ('measur', 0.013115377), ('physic', 0.011955375), ('oper', 0.009720944), ('theori', 0.009340209), ('space', 0.008597263)] \n",
      "\n"
     ]
    }
   ],
   "source": [
    "# print the top 5 contributing topics and their words\n",
    "for i in doc_distribution.argsort()[-5:][::-1]:\n",
    "    print(i, lda.show_topic(topicid=i, topn=10), \"\\n\")"
   ]
  },
  {
   "cell_type": "code",
   "execution_count": 175,
   "metadata": {},
   "outputs": [
    {
     "name": "stdout",
     "output_type": "stream",
     "text": [
      "52\n"
     ]
    }
   ],
   "source": [
    "# select and article at random from test_df\n",
    "random_article_index = np.random.randint(len(test_data))\n",
    "print(random_article_index)"
   ]
  },
  {
   "cell_type": "code",
   "execution_count": 191,
   "metadata": {
    "collapsed": true
   },
   "outputs": [],
   "source": [
    "new_bow = dictionary.doc2bow(test_data.iloc[random_article_index,2])\n"
   ]
  },
  {
   "cell_type": "code",
   "execution_count": 192,
   "metadata": {
    "collapsed": true
   },
   "outputs": [],
   "source": [
    "new_doc_distribution = np.array([tup[1] for tup in lda.get_document_topics(bow=new_bow)])"
   ]
  },
  {
   "cell_type": "code",
   "execution_count": 190,
   "metadata": {},
   "outputs": [
    {
     "data": {
      "image/png": "[encoded data removed]",
      "text/plain": [
       "<matplotlib.figure.Figure at 0x3d367b8d0>"
      ]
     },
     "metadata": {},
     "output_type": "display_data"
    }
   ],
   "source": [
    "# bar plot of topic distribution for this document\n",
    "fig, ax = plt.subplots(figsize=(12,6));\n",
    "# the histogram of the data\n",
    "patches = ax.bar(np.arange(len(new_doc_distribution)), new_doc_distribution)\n",
    "ax.set_xlabel('Topic ID', fontsize=15)\n",
    "ax.set_ylabel('Topic Contribution', fontsize=15)\n",
    "ax.set_title(\"Topic Distribution for an Unseen Article\", fontsize=20)\n",
    "ax.set_xticks(np.linspace(10,100,10))\n",
    "fig.tight_layout()\n",
    "plt.show()"
   ]
  },
  {
   "cell_type": "code",
   "execution_count": 178,
   "metadata": {},
   "outputs": [
    {
     "data": {
      "image/png": "[encoded data removed]",
      "text/plain": [
       "<matplotlib.figure.Figure at 0x4b4c091d0>"
      ]
     },
     "metadata": {},
     "output_type": "display_data"
    }
   ],
   "source": [
    "# bar plot of topic distribution for this document\n",
    "fig, ax = plt.subplots(figsize=(12,6));\n",
    "# the histogram of the data\n",
    "patches = ax.bar(np.arange(len(new_doc_distribution)), new_doc_distribution)\n",
    "ax.set_xlabel('Topic ID', fontsize=15)\n",
    "ax.set_ylabel('Topic Contribution', fontsize=15)\n",
    "ax.set_title(\"Topic Distribution for an Unseen Article\", fontsize=20)\n",
    "ax.set_xticks(np.linspace(10,100,10))\n",
    "fig.tight_layout()\n",
    "plt.show()"
   ]
  },
  {
   "cell_type": "code",
   "execution_count": 182,
   "metadata": {},
   "outputs": [
    {
     "name": "stdout",
     "output_type": "stream",
     "text": [
      "13 [('set', 0.0050384114), ('one', 0.004569648), ('use', 0.0038715608), ('state', 0.0029656205), ('follow', 0.0025684533), ('result', 0.0025476792), ('also', 0.0025282893), ('function', 0.0024391143), ('gener', 0.0024176834), ('case', 0.0023384816)] \n",
      "\n",
      "41 [('ezk', 0.01651736), ('homd', 0.011870058), ('kloosterman', 0.010993052), ('newform', 0.008335269), ('excurs', 0.008075485), ('zyx', 0.007810206), ('kdc', 0.00773646), ('one', 0.0072398717), ('process', 0.006558044), ('function', 0.005805171)] \n",
      "\n",
      "56 [('dissect', 0.060906947), ('result', 0.004219263), ('one', 0.004169994), ('number', 0.0036269808), ('use', 0.0034083594), ('phenomenon', 0.0028028279), ('sn', 0.002780906), ('case', 0.0026595758), ('section', 0.0026210626), ('point', 0.0025876695)] \n",
      "\n",
      "72 [('geck', 0.029882701), ('et', 0.0041863234), ('phi', 0.0031367226), ('al', 0.0030785636), ('use', 0.0030668823), ('paramet', 0.0030391486), ('bs', 0.0027683557), ('case', 0.0027381983), ('one', 0.0025689213), ('sampl', 0.0022942629)] \n",
      "\n",
      "1 [('gener', 0.0034398595), ('phi', 0.0027128858), ('state', 0.0024160973), ('use', 0.002105582), ('one', 0.0020852177), ('map', 0.0020432363), ('also', 0.0018882758), ('let', 0.001824737), ('two', 0.0017977087), ('fig', 0.001782465)] \n",
      "\n"
     ]
    }
   ],
   "source": [
    "# print the top 8 contributing topics and their words\n",
    "for i in new_doc_distribution.argsort()[-5:][::-1]:\n",
    "    print(i, lda.show_topic(topicid=i, topn=10), \"\\n\")"
   ]
  },
  {
   "cell_type": "code",
   "execution_count": 193,
   "metadata": {},
   "outputs": [
    {
     "data": {
      "text/plain": [
       "(5881, 1000)"
      ]
     },
     "execution_count": 193,
     "metadata": {},
     "output_type": "execute_result"
    }
   ],
   "source": [
    "doc_topic_dist = np.array([[tup[1] for tup in lst] for lst in lda[corpus]])\n",
    "doc_topic_dist.shape"
   ]
  },
  {
   "cell_type": "code",
   "execution_count": 194,
   "metadata": {
    "collapsed": true
   },
   "outputs": [],
   "source": [
    "def jensen_shannon(query, matrix):\n",
    "    \"\"\"\n",
    "    This function implements a Jensen-Shannon similarity\n",
    "    between the input query (an LDA topic distribution for a document)\n",
    "    and the entire corpus of topic distributions.\n",
    "    It returns an array of length M where M is the number of documents in the corpus\n",
    "    \"\"\"\n",
    "    # lets keep with the p,q notation above\n",
    "    p = query[None,:].T # take transpose\n",
    "    q = matrix.T # transpose matrix\n",
    "    m = 0.5*(p + q)\n",
    "    return np.sqrt(0.5*(entropy(p,m) + entropy(q,m)))"
   ]
  },
  {
   "cell_type": "code",
   "execution_count": 195,
   "metadata": {
    "collapsed": true
   },
   "outputs": [],
   "source": [
    "def get_most_similar_documents(query,matrix,k=10):\n",
    "    \"\"\"\n",
    "    This function implements the Jensen-Shannon distance above\n",
    "    and retruns the top k indices of the smallest jensen shannon distances\n",
    "    \"\"\"\n",
    "    sims = jensen_shannon(query,matrix) # list of jensen shannon distances\n",
    "    return sims.argsort()[:k] # the top k positional index of the smallest Jensen Shannon distances\n"
   ]
  },
  {
   "cell_type": "code",
   "execution_count": 196,
   "metadata": {
    "collapsed": true
   },
   "outputs": [],
   "source": [
    "# this is surprisingly fast\n",
    "most_sim_ids = get_most_similar_documents(new_doc_distribution,doc_topic_dist)"
   ]
  }
 ],
 "metadata": {
  "anaconda-cloud": {},
  "kernelspec": {
   "display_name": "Python [default]",
   "language": "python",
   "name": "python3"
  },
  "language_info": {
   "codemirror_mode": {
    "name": "ipython",
    "version": 3
   },
   "file_extension": ".py",
   "mimetype": "text/x-python",
   "name": "python",
   "nbconvert_exporter": "python",
   "pygments_lexer": "ipython3",
   "version": "3.5.3"
  }
 },
 "nbformat": 4,
 "nbformat_minor": 2
}
