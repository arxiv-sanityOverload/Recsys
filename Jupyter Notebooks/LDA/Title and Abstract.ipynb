{
 "cells": [
  {
   "cell_type": "markdown",
   "metadata": {},
   "source": [
    "# LDA on Title and Abstract on 91K Research Papers"
   ]
  },
  {
   "cell_type": "code",
   "execution_count": 2,
   "metadata": {},
   "outputs": [],
   "source": [
    "%load_ext snakeviz"
   ]
  },
  {
   "cell_type": "code",
   "execution_count": 2,
   "metadata": {},
   "outputs": [
    {
     "name": "stdout",
     "output_type": "stream",
     "text": [
      "CPU times: user 3.72 s, sys: 1.97 s, total: 5.69 s\n",
      "Wall time: 9.4 s\n"
     ]
    }
   ],
   "source": [
    "%%time\n",
    "%matplotlib inline\n",
    "ROOT_DATA_DIR = \"../data/pdf_extract/\"\n",
    "OUTPUT_DIR = \"../dataset/\"\n",
    "import warnings\n",
    "warnings.filterwarnings(\"ignore\")\n",
    "import os\n",
    "import pandas as pd\n",
    "import numpy as np\n",
    "import nltk\n",
    "from nltk.corpus import stopwords\n",
    "import gensim\n",
    "from gensim.models import LdaMulticore\n",
    "from gensim import models, corpora, similarities\n",
    "import re\n",
    "from nltk.stem.porter import PorterStemmer\n",
    "import time\n",
    "from nltk import FreqDist\n",
    "from scipy.stats import entropy\n",
    "import matplotlib.pyplot as plt\n",
    "import seaborn as sns\n",
    "from numba import jit\n",
    "from multiprocessing import Pool\n",
    "\n",
    "from nltk import stem\n",
    "\n",
    "sns.set_style(\"darkgrid\")"
   ]
  },
  {
   "cell_type": "code",
   "execution_count": 3,
   "metadata": {},
   "outputs": [
    {
     "name": "stdout",
     "output_type": "stream",
     "text": [
      "Connected with Database\n"
     ]
    }
   ],
   "source": [
    "import pymysql.cursors\n",
    "connection = pymysql.connect(host='localhost',\n",
    "                             user='root',\n",
    "                             password='password123',\n",
    "                             db='arxivOverload',\n",
    "                             charset='utf8mb4',\n",
    "                             cursorclass=pymysql.cursors.DictCursor)\n",
    "cursor = connection.cursor()\n",
    "print(\"Connected with Database\")\n",
    "query = \"SELECT arxiv_id, title, abstract FROM arxivOverload.METADATA\"\n",
    "metadata_table_dataframe = pd.read_sql(query, con=connection)"
   ]
  },
  {
   "cell_type": "code",
   "execution_count": 4,
   "metadata": {},
   "outputs": [
    {
     "data": {
      "text/html": [
       "<div>\n",
       "<table border=\"1\" class=\"dataframe\">\n",
       "  <thead>\n",
       "    <tr style=\"text-align: right;\">\n",
       "      <th></th>\n",
       "      <th>arxiv_id</th>\n",
       "      <th>title</th>\n",
       "      <th>abstract</th>\n",
       "    </tr>\n",
       "  </thead>\n",
       "  <tbody>\n",
       "    <tr>\n",
       "      <th>0</th>\n",
       "      <td>1802.02569v1</td>\n",
       "      <td>Orbital Transition in the Parent Spin-Orbit Mo...</td>\n",
       "      <td>The crystal lattice and vibrations of Sr2IrO4 ...</td>\n",
       "    </tr>\n",
       "    <tr>\n",
       "      <th>1</th>\n",
       "      <td>1802.02559v1</td>\n",
       "      <td>Mechanical Stresses Estimation in Silicon and ...</td>\n",
       "      <td>During electrostatic bonding, also known as an...</td>\n",
       "    </tr>\n",
       "    <tr>\n",
       "      <th>2</th>\n",
       "      <td>1802.02555v1</td>\n",
       "      <td>Correlations of occupation numbers in the cano...</td>\n",
       "      <td>We study statistical properties of $N$ non-int...</td>\n",
       "    </tr>\n",
       "    <tr>\n",
       "      <th>3</th>\n",
       "      <td>1802.02553v1</td>\n",
       "      <td>Wrinkles, folds and plasticity in granular rafts</td>\n",
       "      <td>We investigate the mechanical response of a co...</td>\n",
       "    </tr>\n",
       "    <tr>\n",
       "      <th>4</th>\n",
       "      <td>1802.02552v1</td>\n",
       "      <td>Cracking the Conundrum of F-Supergiant Coronae</td>\n",
       "      <td>Chandra X-ray and HST far-ultraviolet (FUV) ob...</td>\n",
       "    </tr>\n",
       "  </tbody>\n",
       "</table>\n",
       "</div>"
      ],
      "text/plain": [
       "       arxiv_id                                              title  \\\n",
       "0  1802.02569v1  Orbital Transition in the Parent Spin-Orbit Mo...   \n",
       "1  1802.02559v1  Mechanical Stresses Estimation in Silicon and ...   \n",
       "2  1802.02555v1  Correlations of occupation numbers in the cano...   \n",
       "3  1802.02553v1   Wrinkles, folds and plasticity in granular rafts   \n",
       "4  1802.02552v1     Cracking the Conundrum of F-Supergiant Coronae   \n",
       "\n",
       "                                            abstract  \n",
       "0  The crystal lattice and vibrations of Sr2IrO4 ...  \n",
       "1  During electrostatic bonding, also known as an...  \n",
       "2  We study statistical properties of $N$ non-int...  \n",
       "3  We investigate the mechanical response of a co...  \n",
       "4  Chandra X-ray and HST far-ultraviolet (FUV) ob...  "
      ]
     },
     "execution_count": 4,
     "metadata": {},
     "output_type": "execute_result"
    }
   ],
   "source": [
    "metadata_table_dataframe.head()"
   ]
  },
  {
   "cell_type": "code",
   "execution_count": 5,
   "metadata": {},
   "outputs": [],
   "source": [
    "num_partitions = 80 #number of partitions to split dataframe\n",
    "# num_cores = 1 #number of cores on your machine\n",
    "\n",
    "def parallelize_dataframe(df, func):\n",
    "    df_split = np.array_split(df, num_partitions)\n",
    "    pool = Pool()\n",
    "    df = pd.concat(pool.map(func, df_split))\n",
    "    pool.close()\n",
    "    pool.join()\n",
    "    return df\n",
    "\n",
    "def encode_df(data):\n",
    "    data['text'] = data['text'].apply(lambda x: str(x, errors='ignore'))\n",
    "    return data\n",
    "\n",
    "def clean_df(df):\n",
    "    start = time.time()\n",
    "    print('Process working on: ',os.getpid())\n",
    "    df['tokenized'] = df['title'].apply(lambda x: apply_all(x)) + df['abstract'].apply(lambda x: apply_all(x))\n",
    "    print('Process done:',os.getpid())\n",
    "    print()\n",
    "    end = time.time()\n",
    "    print(\"time to complete :\", end-start)\n",
    "    return df\n",
    "\n",
    "# For data cleaning \n",
    "def initial_clean(text):\n",
    "    \"\"\"\n",
    "    Function to clean text of websites, email addresess and any punctuation\n",
    "    We also lower case the text\n",
    "    \"\"\"\n",
    "    text = re.sub(\"((\\S+)?(http(s)?)(\\S+))|((\\S+)?(www)(\\S+))|((\\S+)?(\\@)(\\S+)?)\", \" \", text)\n",
    "    text = re.sub(\"[^a-zA-Z ]\", \" \", text)\n",
    "    text = text.lower() # lower case the text\n",
    "    text = nltk.word_tokenize(text)\n",
    "    return text\n",
    "\n",
    "stop_words = stopwords.words('english')\n",
    "\n",
    "def remove_stop_words(text):\n",
    "    \"\"\"\n",
    "    Function that removes all stopwords from text\n",
    "    \"\"\"\n",
    "    return [word for word in text if word not in stop_words]\n",
    "\n",
    "stemmer = stem.PorterStemmer()\n",
    "\n",
    "def stem_words(text):\n",
    "    \"\"\"\n",
    "    Function to stem words, so plural and singular are treated the same\n",
    "    \"\"\"\n",
    "    try:\n",
    "        text = [stemmer.stem(word) for word in text]\n",
    "        text = [word for word in text if len(word) > 1] # make sure we have no 1 letter words\n",
    "    except IndexError: # the word \"oed\" broke this, so needed try except\n",
    "        pass\n",
    "    return text\n",
    "\n",
    "def apply_all(text):\n",
    "    \"\"\"\n",
    "    This function applies all the functions above into one\n",
    "    \"\"\"\n",
    "    return stem_words(remove_stop_words(initial_clean(text)))"
   ]
  },
  {
   "cell_type": "code",
   "execution_count": 6,
   "metadata": {},
   "outputs": [
    {
     "name": "stdout",
     "output_type": "stream",
     "text": [
      "Process working on:  81495\n",
      "Process working on:  81496\n",
      "Process working on:  81497\n",
      "Process working on:  81498\n",
      "Process done: 81497\n",
      "\n",
      "time to complete : 11.95574688911438\n",
      "Process working on:  81497\n",
      "Process done: 81498\n",
      "\n",
      "time to complete : 12.438285827636719\n",
      "Process working on:  81498\n",
      "Process done: 81495\n",
      "\n",
      "time to complete : 12.889097929000854\n",
      "Process working on:  81495\n",
      "Process done: 81496\n",
      "\n",
      "time to complete : 12.8612060546875\n",
      "Process working on:  81496\n",
      "Process done: 81497\n",
      "\n",
      "time to complete : 12.325972080230713\n",
      "Process working on:  81497\n",
      "Process done: 81498\n",
      "\n",
      "time to complete : 12.407192945480347\n",
      "Process working on:  81498\n",
      "Process done: 81496\n",
      "\n",
      "time to complete : 12.686558961868286\n",
      "Process working on:  81496\n",
      "Process done: 81495\n",
      "\n",
      "time to complete : 13.135896921157837\n",
      "Process working on:  81495\n",
      "Process done: 81498\n",
      "\n",
      "time to complete : 10.809357166290283\n",
      "Process working on:  81498\n",
      "Process done: 81497\n",
      "\n",
      "time to complete : 12.210772037506104\n",
      "Process working on:  81497\n",
      "Process done: 81496\n",
      "\n",
      "time to complete : 12.884674072265625\n",
      "Process working on:  81496\n",
      "Process done: 81495\n",
      "\n",
      "time to complete : 13.121894836425781\n",
      "Process working on:  81495\n",
      "Process done: 81498\n",
      "\n",
      "time to complete : 12.45332407951355\n",
      "Process working on:  81498\n",
      "Process done: 81497\n",
      "\n",
      "time to complete : 13.702121019363403\n",
      "Process working on:  81497\n",
      "Process done: 81495\n",
      "\n",
      "time to complete : 13.63591194152832\n",
      "Process working on:  81495\n",
      "Process done: 81496\n",
      "\n",
      "time to complete : 14.342143058776855\n",
      "Process working on:  81496\n",
      "Process done: 81498\n",
      "\n",
      "time to complete : 15.698653936386108\n",
      "Process working on:  81498\n",
      "Process done: 81497\n",
      "\n",
      "time to complete : 15.650748014450073\n",
      "Process working on:  81497\n",
      "Process done: 81495\n",
      "\n",
      "time to complete : 16.07324481010437\n",
      "Process done: 81496\n",
      "\n",
      "time to complete : 16.071819067001343\n",
      "Process working on:  81495\n",
      "Process working on:  81496\n",
      "Process done: 81498\n",
      "\n",
      "time to complete : 16.95529818534851\n",
      "Process working on:  81498\n",
      "Process done: 81497\n",
      "\n",
      "time to complete : 17.683632850646973\n",
      "Process working on:  81497\n",
      "Process done: 81495\n",
      "\n",
      "time to complete : 17.241008043289185\n",
      "Process working on:  81495\n",
      "Process done: 81496\n",
      "\n",
      "time to complete : 17.079583883285522\n",
      "Process working on:  81496\n",
      "Process done: 81498\n",
      "\n",
      "time to complete : 16.146957874298096\n",
      "Process working on:  81498\n",
      "Process done: 81497\n",
      "\n",
      "time to complete : 15.074312925338745\n",
      "Process working on:  81497\n",
      "Process done: 81495\n",
      "\n",
      "time to complete : 14.00736689567566\n",
      "Process working on:  81495\n",
      "Process done: 81496\n",
      "\n",
      "time to complete : 13.387115955352783\n",
      "Process working on:  81496\n",
      "Process done: 81498\n",
      "\n",
      "time to complete : 12.871598958969116\n",
      "Process working on:  81498\n",
      "Process done: 81497\n",
      "\n",
      "time to complete : 13.303881883621216\n",
      "Process working on:  81497\n",
      "Process done: 81496\n",
      "\n",
      "time to complete : 12.37210202217102\n",
      "Process working on:  81496\n",
      "Process done: 81495\n",
      "\n",
      "time to complete : 12.736443996429443\n",
      "Process working on:  81495\n",
      "Process done: 81498\n",
      "\n",
      "time to complete : 14.930938959121704\n",
      "Process working on:  81498\n",
      "Process done: 81496\n",
      "\n",
      "time to complete : 13.784245014190674\n",
      "Process working on:  81496\n",
      "Process done: 81497\n",
      "\n",
      "time to complete : 14.574445009231567\n",
      "Process working on:  81497\n",
      "Process done: 81495\n",
      "\n",
      "time to complete : 13.849965810775757\n",
      "Process working on:  81495\n",
      "Process done: 81498\n",
      "\n",
      "time to complete : 14.219130039215088\n",
      "Process done: 81496\n",
      "Process working on:  81498\n",
      "\n",
      "time to complete : 13.449128150939941\n",
      "Process done: 81495\n",
      "\n",
      "time to complete : 13.892653942108154\n",
      "Process working on:  81496\n",
      "Process done: 81497\n",
      "time to complete : 14.451904058456421\n",
      "\n",
      "Process working on:  81495\n",
      "Process working on:  81497\n",
      "Process done: 81498\n",
      "\n",
      "time to complete : 13.284164190292358\n",
      "Process working on:  81498\n",
      "Process done: 81496\n",
      "\n",
      "time to complete : 13.172209024429321\n",
      "Process working on:  81496\n",
      "Process done: 81497\n",
      "\n",
      "time to complete : 11.461766004562378\n",
      "Process working on:  81497\n",
      "Process done: 81495\n",
      "\n",
      "time to complete : 13.542208909988403\n",
      "Process working on:  81495\n",
      "Process done: 81497\n",
      "\n",
      "time to complete : 12.102024793624878\n",
      "Process working on:  81497\n",
      "Process done: 81498\n",
      "\n",
      "time to complete : 13.731203079223633\n",
      "Process working on:  81498\n",
      "Process done: 81496\n",
      "\n",
      "time to complete : 13.377220869064331\n",
      "Process working on:  81496\n",
      "Process done: 81495\n",
      "\n",
      "time to complete : 13.199895143508911\n",
      "Process working on:  81495\n",
      "Process done: 81497\n",
      "\n",
      "time to complete : 11.577664136886597\n",
      "Process working on:  81497\n",
      "Process done: 81498\n",
      "\n",
      "time to complete : 13.041485071182251\n",
      "Process working on:  81498\n",
      "Process done: 81495\n",
      "\n",
      "time to complete : 11.639357089996338\n",
      "Process working on:  81495\n",
      "Process done: 81496\n",
      "\n",
      "time to complete : 13.57757306098938\n",
      "Process working on:  81496\n",
      "Process done: 81497\n",
      "\n",
      "time to complete : 11.880772113800049\n",
      "Process working on:  81497\n",
      "Process done: 81495\n",
      "\n",
      "time to complete : 12.0154869556427\n",
      "Process working on:  81495\n",
      "Process done: 81498\n",
      "\n",
      "time to complete : 13.15998101234436\n",
      "Process working on:  81498\n",
      "Process done: 81496\n",
      "\n",
      "time to complete : 13.856979846954346\n",
      "Process working on:  81496\n",
      "Process done: 81497\n",
      "\n",
      "time to complete : 11.701428890228271\n",
      "Process working on:  81497\n",
      "Process done: 81495\n",
      "\n",
      "time to complete : 12.239923000335693\n",
      "Process working on:  81495\n",
      "Process done: 81498\n",
      "\n",
      "time to complete : 13.634989976882935\n",
      "Process working on:  81498\n",
      "Process done: 81496\n",
      "\n",
      "time to complete : 14.825905084609985\n",
      "Process working on:  81496\n",
      "Process done: 81497\n",
      "\n",
      "time to complete : 12.068207025527954\n",
      "Process working on:  81497\n",
      "Process done: 81498\n",
      "\n",
      "time to complete : 10.948518991470337\n",
      "Process working on:  81498\n",
      "Process done: 81495\n",
      "\n",
      "time to complete : 15.428004026412964\n",
      "Process working on:  81495\n",
      "Process done: 81496\n",
      "\n",
      "time to complete : 11.640398025512695\n",
      "Process working on:  81496\n",
      "Process done: 81497\n",
      "\n",
      "time to complete : 15.388160943984985\n",
      "Process working on:  81497\n",
      "Process done: 81496\n",
      "\n",
      "time to complete : 12.128266096115112\n",
      "Process working on:  81496\n",
      "Process done: 81495\n",
      "\n",
      "time to complete : 14.02147102355957\n",
      "Process working on:  81495\n",
      "Process done: 81498\n",
      "\n",
      "time to complete : 16.78322982788086\n",
      "Process working on:  81498\n",
      "Process done: 81497\n",
      "\n",
      "time to complete : 14.981547832489014\n",
      "Process working on:  81497\n",
      "Process done: 81496\n",
      "\n",
      "time to complete : 11.083985090255737\n",
      "Process working on:  81496\n",
      "Process done: 81495\n",
      "\n",
      "time to complete : 11.864300012588501\n",
      "Process working on:  81495\n",
      "Process done: 81498\n",
      "\n",
      "time to complete : 11.828581094741821\n",
      "Process working on:  81498\n",
      "Process done: 81496\n",
      "\n",
      "time to complete : 10.540827989578247\n",
      "Process working on:  81496\n",
      "Process done: 81495\n",
      "\n",
      "time to complete : 10.67217206954956\n",
      "Process working on:  81495\n",
      "Process done: 81498\n",
      "\n",
      "time to complete : 10.270007848739624\n",
      "Process working on:  81498\n",
      "Process done: 81497\n",
      "\n",
      "time to complete : 14.793442964553833\n",
      "Process working on:  81497\n",
      "Process done: 81496\n",
      "\n",
      "time to complete : 10.231818914413452\n",
      "Process done: 81498\n",
      "time to complete : 10.826606035232544\n",
      "\n",
      "Process done: 81495\n",
      "time to complete : 11.903008937835693\n",
      "\n",
      "Process done: 81497\n",
      "\n",
      "time to complete : 12.36446499824524\n"
     ]
    }
   ],
   "source": [
    "data = parallelize_dataframe(metadata_table_dataframe, clean_df)"
   ]
  },
  {
   "cell_type": "code",
   "execution_count": 8,
   "metadata": {},
   "outputs": [],
   "source": [
    "data.to_csv(\"../dataset/DB_tokens.csv\", index=False)"
   ]
  },
  {
   "cell_type": "code",
   "execution_count": 9,
   "metadata": {},
   "outputs": [
    {
     "data": {
      "text/plain": [
       "83954"
      ]
     },
     "execution_count": 9,
     "metadata": {},
     "output_type": "execute_result"
    }
   ],
   "source": [
    "# first get a list of all words\n",
    "all_words = [word for item in list(data['tokenized']) for word in item]\n",
    "# use nltk fdist to get a frequency distribution of all words\n",
    "fdist = FreqDist(all_words)\n",
    "len(fdist) # number of unique words"
   ]
  },
  {
   "cell_type": "code",
   "execution_count": 10,
   "metadata": {},
   "outputs": [
    {
     "data": {
      "text/plain": [
       "[('hopper', 39),\n",
       " ('conv', 39),\n",
       " ('skylin', 39),\n",
       " ('soar', 39),\n",
       " ('glm', 39),\n",
       " ('morton', 39),\n",
       " ('iota', 39),\n",
       " ('header', 39),\n",
       " ('zhu', 39),\n",
       " ('kelli', 39)]"
      ]
     },
     "execution_count": 10,
     "metadata": {},
     "output_type": "execute_result"
    }
   ],
   "source": [
    "k = 300000\n",
    "top_k_words = fdist.most_common(k)\n",
    "top_k_words[-10:]"
   ]
  },
  {
   "cell_type": "code",
   "execution_count": 11,
   "metadata": {},
   "outputs": [],
   "source": [
    "top_k_words,_ = zip(*fdist.most_common(k))\n",
    "top_k_words = set(top_k_words)\n",
    "def keep_top_k_words(text):\n",
    "    return [word for word in text if word in top_k_words]"
   ]
  },
  {
   "cell_type": "code",
   "execution_count": 12,
   "metadata": {},
   "outputs": [],
   "source": [
    "data['tokenized'] = data['tokenized'].apply(keep_top_k_words)"
   ]
  },
  {
   "cell_type": "code",
   "execution_count": 13,
   "metadata": {},
   "outputs": [
    {
     "data": {
      "text/plain": [
       "132330"
      ]
     },
     "execution_count": 13,
     "metadata": {},
     "output_type": "execute_result"
    }
   ],
   "source": [
    "len(data['tokenized'])"
   ]
  },
  {
   "cell_type": "code",
   "execution_count": 14,
   "metadata": {},
   "outputs": [
    {
     "name": "stdout",
     "output_type": "stream",
     "text": [
      "length of list: 132330 \n",
      "average document length 99.81187939242803 \n",
      "minimum document length 4 \n",
      "maximum document length 317\n"
     ]
    }
   ],
   "source": [
    "# document length\n",
    "data['doc_len'] = data['tokenized'].apply(lambda x: len(x))\n",
    "doc_lengths = list(data['doc_len'])\n",
    "data.drop(labels='doc_len', axis=1, inplace=True)\n",
    "\n",
    "print(\"length of list:\",len(doc_lengths),\n",
    "      \"\\naverage document length\", np.average(doc_lengths),\n",
    "      \"\\nminimum document length\", min(doc_lengths),\n",
    "      \"\\nmaximum document length\", max(doc_lengths))"
   ]
  },
  {
   "cell_type": "code",
   "execution_count": 15,
   "metadata": {},
   "outputs": [
    {
     "data": {
      "image/png": "[encoded data removed]",
      "text/plain": [
       "<matplotlib.figure.Figure at 0x14c1d8d30>"
      ]
     },
     "metadata": {},
     "output_type": "display_data"
    }
   ],
   "source": [
    "# plot a histogram of document length\n",
    "num_bins = 100\n",
    "fig, ax = plt.subplots(figsize=(12,6));\n",
    "# the histogram of the data\n",
    "n, bins, patches = ax.hist(doc_lengths, num_bins, normed=1)\n",
    "ax.set_xlabel('Document Length (tokens)', fontsize=15)\n",
    "ax.set_ylabel('Normed Frequency', fontsize=15)\n",
    "ax.grid()\n",
    "ax.set_xticks(np.logspace(start=np.log10(50),stop=np.log10(280),num=8, base=10.0))\n",
    "plt.xlim(0,280)\n",
    "ax.plot([np.average(doc_lengths) for i in np.linspace(0.0,0.0035,100)], np.linspace(0.0,0.0035,100), '-',\n",
    "        label='average doc length')\n",
    "ax.legend()\n",
    "ax.grid()\n",
    "fig.tight_layout()\n",
    "plt.show()"
   ]
  },
  {
   "cell_type": "code",
   "execution_count": 16,
   "metadata": {},
   "outputs": [
    {
     "name": "stdout",
     "output_type": "stream",
     "text": [
      "After cleaning and excluding short aticles, the dataframe now has: 130033 articles\n"
     ]
    }
   ],
   "source": [
    "# only keep articles with more than 30 tokens, otherwise too short\n",
    "data = data[data['tokenized'].map(len) >= 30]\n",
    "# make sure all tokenized items are lists\n",
    "data = data[data['tokenized'].map(type) == list]\n",
    "data.reset_index(drop=True,inplace=True)\n",
    "print(\"After cleaning and excluding short aticles, the dataframe now has:\", len(data), \"articles\")"
   ]
  },
  {
   "cell_type": "code",
   "execution_count": 30,
   "metadata": {},
   "outputs": [],
   "source": [
    "msk = np.random.rand(len(data)) > 0.3\n",
    "train_data = data[msk]\n",
    "train_data.reset_index(drop=True,inplace=True)\n",
    "\n",
    "test_data = data[~msk]\n",
    "test_data.reset_index(drop=True,inplace=True)"
   ]
  },
  {
   "cell_type": "code",
   "execution_count": 31,
   "metadata": {},
   "outputs": [
    {
     "name": "stdout",
     "output_type": "stream",
     "text": [
      "130033 91009 39024\n"
     ]
    }
   ],
   "source": [
    "print(len(data),len(train_data),len(test_data))"
   ]
  },
  {
   "cell_type": "code",
   "execution_count": 32,
   "metadata": {},
   "outputs": [
    {
     "name": "stdout",
     "output_type": "stream",
     "text": [
      "CPU times: user 5 µs, sys: 2 µs, total: 7 µs\n",
      "Wall time: 13.8 µs\n"
     ]
    }
   ],
   "source": [
    "%time\n",
    "def train_lda(data):\n",
    "    \"\"\"\n",
    "    This function trains the lda model\n",
    "    We setup parameters like number of topics, the chunksize to use in Hoffman method\n",
    "    We also do 2 passes of the data since this is a small dataset, so we want the distributions to stabilize\n",
    "    \"\"\"\n",
    "    num_topics = 100\n",
    "    chunksize = 30000\n",
    "    dictionary = corpora.Dictionary(data['tokenized'])\n",
    "    corpus = [dictionary.doc2bow(doc) for doc in data['tokenized']]\n",
    "    t1 = time.time()\n",
    "    # low alpha means each document is only represented by a small number of topics, and vice versa\n",
    "    # low eta means each topic is only represented by a small number of words, and vice versa\n",
    "    lda = LdaMulticore(corpus=corpus, num_topics=num_topics, id2word=dictionary,\n",
    "                   alpha=1e-2, eta=0.5e-2, chunksize=chunksize, minimum_probability=0.0, passes=10, workers = 4)\n",
    "    t2 = time.time()\n",
    "    print(\"Time to train LDA model on \", len(data), \"articles: \", (t2-t1)/60, \"min\")\n",
    "    return dictionary,corpus,lda"
   ]
  },
  {
   "cell_type": "code",
   "execution_count": 33,
   "metadata": {},
   "outputs": [
    {
     "name": "stdout",
     "output_type": "stream",
     "text": [
      "Time to train LDA model on  91009 articles:  15.523566297690074 min\n"
     ]
    }
   ],
   "source": [
    "dictionary,corpus,lda = train_lda(train_data)"
   ]
  },
  {
   "cell_type": "code",
   "execution_count": 56,
   "metadata": {},
   "outputs": [
    {
     "name": "stdout",
     "output_type": "stream",
     "text": [
      "34569\n"
     ]
    }
   ],
   "source": [
    "# select and article at random from train_df\n",
    "random_article_index = np.random.randint(len(train_data))\n",
    "bow = dictionary.doc2bow(train_data.iloc[random_article_index, 3])\n",
    "print(random_article_index)"
   ]
  },
  {
   "cell_type": "code",
   "execution_count": 57,
   "metadata": {},
   "outputs": [
    {
     "name": "stdout",
     "output_type": "stream",
     "text": [
      "['interfac', 'mediat', 'mechan', 'plastic', 'strain', 'recoveri', 'alloy', 'combin', 'transmiss', 'electron', 'microscopi', 'analysi', 'deform', 'microstructur', 'molecular', 'dynam', 'comput', 'simul', 'deform', 'process', 'mechan', 'plastic', 'strain', 'recoveri', 'bulk', 'either', 'incoher', 'twin', 'cube', 'cube', 'interfac', 'ag', 'cu', 'layer', 'bilay', 'thick', 'nm', 'reveal', 'charact', 'incoher', 'twin', 'interfac', 'chang', 'uniqu', 'dynam', 'compress', 'load', 'sampl', 'exhibit', 'plastic', 'strain', 'recoveri', 'found', 'drive', 'recoveri', 'due', 'disloc', 'retract', 'rearrang', 'interfac', 'magnitud', 'recoveri', 'decreas', 'increas', 'strain', 'disloc', 'tangl', 'disloc', 'cell', 'structur', 'form', 'chang', 'orient', 'relationship', 'found', 'cube', 'cube', 'interfac', 'exhibit', 'lesser', 'amount', 'plastic', 'strain', 'recoveri', 'simul', 'none', 'experiment', 'sampl', 'larger', 'layer', 'thick', 'predominantli', 'cube', 'cube', 'interfac', 'molecular', 'dynam', 'comput', 'simul', 'verifi', 'import', 'chang', 'incoher', 'twin', 'interfac', 'structur', 'drive', 'forc', 'disloc', 'annihil', 'interfac', 'plastic', 'strain', 'recoveri']\n"
     ]
    }
   ],
   "source": [
    "print(train_data.iloc[random_article_index,3])"
   ]
  },
  {
   "cell_type": "code",
   "execution_count": 61,
   "metadata": {},
   "outputs": [
    {
     "data": {
      "image/png": "[encoded data removed]",
      "text/plain": [
       "<matplotlib.figure.Figure at 0x19d71e358>"
      ]
     },
     "metadata": {},
     "output_type": "display_data"
    }
   ],
   "source": [
    "doc_distribution = np.array([tup[1] for tup in lda.get_document_topics(bow=bow)])\n",
    "# bar plot of topic distribution for this document\n",
    "fig, ax = plt.subplots(figsize=(12,6));\n",
    "# the histogram of the data\n",
    "patches = ax.bar(np.arange(len(doc_distribution)), doc_distribution)\n",
    "ax.set_xlabel('Topic ID', fontsize=15)\n",
    "ax.set_ylabel('Topic Contribution', fontsize=15)\n",
    "ax.set_title(\"Topic Distribution for Article \" + str(random_article_index), fontsize=20)\n",
    "ax.set_xticks(np.linspace(10,100,10))\n",
    "fig.tight_layout()\n",
    "plt.show()"
   ]
  },
  {
   "cell_type": "code",
   "execution_count": 68,
   "metadata": {},
   "outputs": [
    {
     "name": "stdout",
     "output_type": "stream",
     "text": [
      "20655\n"
     ]
    }
   ],
   "source": [
    "random_article_index = np.random.randint(len(test_data))\n",
    "print(random_article_index)"
   ]
  },
  {
   "cell_type": "code",
   "execution_count": 70,
   "metadata": {},
   "outputs": [],
   "source": [
    "bow = dictionary.doc2bow(train_data.iloc[random_article_index, 3])"
   ]
  },
  {
   "cell_type": "code",
   "execution_count": 81,
   "metadata": {},
   "outputs": [
    {
     "data": {
      "image/png": "[encoded data removed]",
      "text/plain": [
       "<matplotlib.figure.Figure at 0x18b63f6a0>"
      ]
     },
     "metadata": {},
     "output_type": "display_data"
    }
   ],
   "source": [
    "new_doc_distribution = np.array([tup[1] for tup in lda.get_document_topics(bow=bow)])\n",
    "# bar plot of topic distribution for this document\n",
    "fig, ax = plt.subplots(figsize=(12,6));\n",
    "# the histogram of the data\n",
    "patches = ax.bar(np.arange(len(doc_distribution)), doc_distribution)\n",
    "ax.set_xlabel('Topic ID', fontsize=15)\n",
    "ax.set_ylabel('Topic Contribution', fontsize=15)\n",
    "ax.set_title(\"Topic Distribution for Article \" + str(random_article_index), fontsize=20)\n",
    "ax.set_xticks(np.linspace(10,100,10))\n",
    "fig.tight_layout()\n",
    "plt.show()"
   ]
  },
  {
   "cell_type": "code",
   "execution_count": 82,
   "metadata": {},
   "outputs": [
    {
     "name": "stdout",
     "output_type": "stream",
     "text": [
      "1 [('photon', 0.03858067), ('topolog', 0.02783458), ('coupl', 0.024899378), ('state', 0.02206398), ('caviti', 0.019995103), ('pair', 0.013475728), ('quantum', 0.013275512), ('superconduct', 0.012105052), ('two', 0.01144424), ('system', 0.011175133)] \n",
      "\n",
      "21 [('atom', 0.030963412), ('interact', 0.025244579), ('condens', 0.020457763), ('trap', 0.017379766), ('bose', 0.013825754), ('two', 0.013538765), ('ion', 0.0104243215), ('effect', 0.010018337), ('exciton', 0.009915644), ('dynam', 0.009810683)] \n",
      "\n",
      "93 [('quantum', 0.12797762), ('state', 0.023277504), ('classic', 0.018161274), ('measur', 0.01810476), ('qubit', 0.015618175), ('system', 0.01184853), ('use', 0.009044697), ('coher', 0.008183925), ('comput', 0.007925074), ('inform', 0.0078097116)] \n",
      "\n",
      "11 [('entangl', 0.08563574), ('state', 0.069700286), ('protocol', 0.01878429), ('quantum', 0.014303254), ('two', 0.012580951), ('qubit', 0.012023605), ('measur', 0.010966793), ('use', 0.009772272), ('gener', 0.009652142), ('system', 0.008361831)] \n",
      "\n",
      "36 [('curv', 0.05733318), ('mu', 0.04568704), ('variabl', 0.025884513), ('light', 0.011180061), ('simon', 0.010716493), ('use', 0.0107102925), ('cepheid', 0.01056225), ('chern', 0.009628311), ('cylind', 0.008482976), ('pn', 0.007990917)] \n",
      "\n"
     ]
    }
   ],
   "source": [
    "for i in doc_distribution.argsort()[-5:][::-1]:\n",
    "    print(i, lda.show_topic(topicid=i, topn=10), \"\\n\")"
   ]
  },
  {
   "cell_type": "code",
   "execution_count": 74,
   "metadata": {},
   "outputs": [
    {
     "data": {
      "text/plain": [
       "(91009, 100)"
      ]
     },
     "execution_count": 74,
     "metadata": {},
     "output_type": "execute_result"
    }
   ],
   "source": [
    "doc_topic_dist = np.array([[tup[1] for tup in lst] for lst in lda[corpus]])\n",
    "doc_topic_dist.shape"
   ]
  },
  {
   "cell_type": "code",
   "execution_count": 75,
   "metadata": {},
   "outputs": [],
   "source": [
    "def jensen_shannon(query, matrix):\n",
    "    \"\"\"\n",
    "    This function implements a Jensen-Shannon similarity\n",
    "    between the input query (an LDA topic distribution for a document)\n",
    "    and the entire corpus of topic distributions.\n",
    "    It returns an array of length M where M is the number of documents in the corpus\n",
    "    \"\"\"\n",
    "    # lets keep with the p,q notation above\n",
    "    p = query[None,:].T # take transpose\n",
    "    q = matrix.T # transpose matrix\n",
    "    m = 0.5*(p + q)\n",
    "    return np.sqrt(0.5*(entropy(p,m) + entropy(q,m)))"
   ]
  },
  {
   "cell_type": "code",
   "execution_count": 76,
   "metadata": {},
   "outputs": [],
   "source": [
    "def get_most_similar_documents(query,matrix,k=10):\n",
    "    \"\"\"\n",
    "    This function implements the Jensen-Shannon distance above\n",
    "    and retruns the top k indices of the smallest jensen shannon distances\n",
    "    \"\"\"\n",
    "    sims = jensen_shannon(query,matrix) # list of jensen shannon distances\n",
    "    return sims.argsort()[:k] # the top k positional index of the smallest Jensen Shannon distances"
   ]
  },
  {
   "cell_type": "code",
   "execution_count": 84,
   "metadata": {},
   "outputs": [],
   "source": [
    "most_sim_ids = get_most_similar_documents(new_doc_distribution,doc_topic_dist)"
   ]
  },
  {
   "cell_type": "code",
   "execution_count": 85,
   "metadata": {},
   "outputs": [
    {
     "data": {
      "text/plain": [
       "2952     Adiabatic entangling gate of Bose-Einstein con...\n",
       "5446     Non-adiabatic quantum state preparation and qu...\n",
       "10267    Adiabatic passage of radiofrequency-assisted F...\n",
       "29812    Entangling one polariton with a photon: effect...\n",
       "54086    Measurement-based entanglement of non-interact...\n",
       "61968    Fusing atomic $W$ states via quantum Zeno dyna...\n",
       "69049    Polarization entanglement and quantum beats of...\n",
       "79651    Engineering steady-state entanglement via diss...\n",
       "79836    Entangling power of holonomic gates in atom-ca...\n",
       "86072    Entanglement of Atomic Ensembles by Trapping C...\n",
       "Name: title, dtype: object"
      ]
     },
     "execution_count": 85,
     "metadata": {},
     "output_type": "execute_result"
    }
   ],
   "source": [
    "most_similar_df = train_data[train_data.index.isin(most_sim_ids)]\n",
    "most_similar_df['title']"
   ]
  },
  {
   "cell_type": "markdown",
   "metadata": {},
   "source": [
    "# Problem with LDA \n",
    "\n",
    "    1. Will not work with > 1TB data \n",
    "    2. creates a dense representation of document x number of topic. \n",
    "    3. for finding similarity of all the papers and new incoming papers this computation will be extensive adn expensive. \n",
    "    4. Hardware limitation.\n",
    "    "
   ]
  },
  {
   "cell_type": "code",
   "execution_count": null,
   "metadata": {},
   "outputs": [],
   "source": []
  }
 ],
 "metadata": {
  "anaconda-cloud": {},
  "kernelspec": {
   "display_name": "Python [conda root]",
   "language": "python",
   "name": "conda-root-py"
  },
  "language_info": {
   "codemirror_mode": {
    "name": "ipython",
    "version": 3
   },
   "file_extension": ".py",
   "mimetype": "text/x-python",
   "name": "python",
   "nbconvert_exporter": "python",
   "pygments_lexer": "ipython3",
   "version": "3.5.2"
  }
 },
 "nbformat": 4,
 "nbformat_minor": 1
}
